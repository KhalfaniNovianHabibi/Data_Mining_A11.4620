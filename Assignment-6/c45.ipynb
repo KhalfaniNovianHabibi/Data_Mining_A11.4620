{
  "nbformat": 4,
  "nbformat_minor": 0,
  "metadata": {
    "colab": {
      "name": "c45.ipynb",
      "provenance": []
    },
    "kernelspec": {
      "name": "python3",
      "display_name": "Python 3"
    },
    "language_info": {
      "name": "python"
    }
  },
  "cells": [
    {
      "cell_type": "markdown",
      "source": [
        "## **Klasifikasi Decision Tree**"
      ],
      "metadata": {
        "id": "0uBE9AYvd2L1"
      }
    },
    {
      "cell_type": "markdown",
      "source": [
        "### **Import library**"
      ],
      "metadata": {
        "id": "_Fw66Fdwed-M"
      }
    },
    {
      "cell_type": "code",
      "source": [
        "import numpy as np\n",
        "import pandas as pd\n",
        "from sklearn import tree"
      ],
      "metadata": {
        "id": "YFzd6Kb3edCx"
      },
      "execution_count": 1,
      "outputs": []
    },
    {
      "cell_type": "markdown",
      "source": [
        "### **Membaca dataset, mengubah kelas, dan mengubah dataframe ke array numpy**"
      ],
      "metadata": {
        "id": "il8IGeoDelMU"
      }
    },
    {
      "cell_type": "code",
      "source": [
        "irisDataset = pd.read_csv('Social_Network_Ads.csv', delimiter=',', header=0)\n",
        "\n",
        "irisDataset[\"Gender\"] = pd.factorize(irisDataset.Gender)[0]\n",
        "irisDataset = irisDataset.drop(labels='User ID', axis=1)\n",
        "irisDataset = irisDataset.to_numpy()"
      ],
      "metadata": {
        "id": "l-ixgPitetH1"
      },
      "execution_count": 2,
      "outputs": []
    },
    {
      "cell_type": "markdown",
      "source": [
        "### **Membagi dataset**"
      ],
      "metadata": {
        "id": "fvSI_OpXevKO"
      }
    },
    {
      "cell_type": "code",
      "source": [
        "dataTraining = np.concatenate((irisDataset[0:40,:], irisDataset[50:90,:]), axis=0)\n",
        "dataTesting = np.concatenate((irisDataset[40:50,:], irisDataset[90:100,:]), axis=0)"
      ],
      "metadata": {
        "id": "ZkGkwPSIezta"
      },
      "execution_count": 3,
      "outputs": []
    },
    {
      "cell_type": "markdown",
      "source": [
        "### **Memecah dataset ke input dan label**"
      ],
      "metadata": {
        "id": "JtEcPF0Ue0yt"
      }
    },
    {
      "cell_type": "code",
      "source": [
        "inputTraining = dataTraining[:,0:4]\n",
        "inputTesting = dataTesting[:,0:4]\n",
        "labelTraining = dataTraining[:,3]\n",
        "labelTesting = dataTesting[:,3]"
      ],
      "metadata": {
        "id": "LQipJj9ce2_t"
      },
      "execution_count": 4,
      "outputs": []
    },
    {
      "cell_type": "markdown",
      "source": [
        "### **Mendefinisikan Decision Tree**"
      ],
      "metadata": {
        "id": "zHUzPeUde7PH"
      }
    },
    {
      "cell_type": "code",
      "source": [
        "model = tree.DecisionTreeClassifier()\n",
        "model = model.fit(inputTraining, labelTraining)\n",
        "\n",
        "hasilPrediksi = model.predict(inputTesting)\n",
        "print('label sebenarnya ', labelTesting)\n",
        "print('hasil sebenarnya ', hasilPrediksi)\n",
        "\n",
        "prediksiBenar = (hasilPrediksi == labelTesting).sum()\n",
        "prediksiSalah = (hasilPrediksi != labelTesting).sum()\n",
        "print('prediksi benar: ', prediksiBenar, ' data')\n",
        "print('prediksi salah: ', prediksiSalah, ' data')\n",
        "print('akurasi: ', prediksiBenar/(prediksiBenar+prediksiSalah) * 100, '%')"
      ],
      "metadata": {
        "colab": {
          "base_uri": "https://localhost:8080/"
        },
        "id": "Cnq_JRDhe9ld",
        "outputId": "f738fb9f-2368-49fc-d871-15540c7bd064"
      },
      "execution_count": 5,
      "outputs": [
        {
          "output_type": "stream",
          "name": "stdout",
          "text": [
            "label sebenarnya  [0 0 0 0 0 0 0 0 1 0 0 0 0 0 0 0 0 1 0 0]\n",
            "hasil sebenarnya  [0 0 0 0 0 0 0 0 1 0 0 0 0 0 0 0 0 1 0 0]\n",
            "prediksi benar:  20  data\n",
            "prediksi salah:  0  data\n",
            "akurasi:  100.0 %\n"
          ]
        }
      ]
    }
  ]
}